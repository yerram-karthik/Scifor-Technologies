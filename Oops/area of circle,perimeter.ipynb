{
 "cells": [
  {
   "cell_type": "code",
   "execution_count": 24,
   "id": "21cab7b3",
   "metadata": {},
   "outputs": [
    {
     "name": "stdout",
     "output_type": "stream",
     "text": [
      "AREA OF RECTANGLE IS: 20\n",
      "PERIMETER OF RECTANGLE IS: 18\n",
      "AREA OF CIRCLE IS: 113.04\n",
      "PERIMETER OF CIRCLE IS: 37.68\n"
     ]
    }
   ],
   "source": [
    "class Shape:\n",
    "    def area(self):\n",
    "        pass\n",
    "    def perimeter(self):\n",
    "        pass\n",
    "\n",
    "class Rectangle(Shape):\n",
    "    def __init__(self,len,wid):\n",
    "        self.len=len\n",
    "        self.wid=wid\n",
    "        \n",
    "    def area(self):\n",
    "        return self.len*self.wid\n",
    "    \n",
    "    def perimeter(self):\n",
    "        return 2*(self.len+self.wid)\n",
    "\n",
    "rec=Rectangle(5,4)\n",
    "print(\"AREA OF RECTANGLE IS:\",rec.area())\n",
    "print(\"PERIMETER OF RECTANGLE IS:\",rec.perimeter())\n",
    "\n",
    "class Circle(Shape):\n",
    "    def __init__(self,radius):\n",
    "        self.radius=radius\n",
    "    def area(self):\n",
    "        return 3.14*self.radius**2\n",
    "    def perimeter(self):\n",
    "        return 2*3.14*self.radius\n",
    "cir=Circle(6)\n",
    "print(\"AREA OF CIRCLE IS:\",cir.area())\n",
    "print(\"PERIMETER OF CIRCLE IS:\",cir.perimeter())"
   ]
  },
  {
   "cell_type": "code",
   "execution_count": null,
   "id": "df2b5ffa",
   "metadata": {},
   "outputs": [],
   "source": []
  }
 ],
 "metadata": {
  "kernelspec": {
   "display_name": "Python 3 (ipykernel)",
   "language": "python",
   "name": "python3"
  },
  "language_info": {
   "codemirror_mode": {
    "name": "ipython",
    "version": 3
   },
   "file_extension": ".py",
   "mimetype": "text/x-python",
   "name": "python",
   "nbconvert_exporter": "python",
   "pygments_lexer": "ipython3",
   "version": "3.11.4"
  }
 },
 "nbformat": 4,
 "nbformat_minor": 5
}
