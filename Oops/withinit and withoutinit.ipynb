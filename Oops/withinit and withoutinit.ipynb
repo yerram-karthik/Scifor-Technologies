{
 "cells": [
  {
   "cell_type": "code",
   "execution_count": 5,
   "id": "283f9263",
   "metadata": {},
   "outputs": [
    {
     "name": "stdout",
     "output_type": "stream",
     "text": [
      "Hello from ClassWithInit, my name is Object with init\n",
      "Hello from ClassWithoutInit\n"
     ]
    }
   ],
   "source": [
    "#withinit and withoutinit\n",
    "class ClassWithInit:\n",
    "    def __init__(self, name):\n",
    "        self.name = name\n",
    "    def greet(self):\n",
    "        print(f\"Hello from ClassWithInit, my name is {self.name}\")\n",
    "        \n",
    "class ClassWithoutInit:\n",
    "    def greet(self):\n",
    "        print(\"Hello from ClassWithoutInit\")\n",
    "\n",
    "obj_with_init = ClassWithInit(\"Object with init\")\n",
    "obj_without_init = ClassWithoutInit()\n",
    "\n",
    "obj_with_init.greet()\n",
    "obj_without_init.greet()\n",
    "\n"
   ]
  },
  {
   "cell_type": "code",
   "execution_count": 13,
   "id": "19574c2a",
   "metadata": {},
   "outputs": [
    {
     "name": "stdout",
     "output_type": "stream",
     "text": [
      "The parrot is moving!\n",
      "The parrot is flying!\n",
      "The parrot is chirping!\n",
      "The parrot is eating!\n",
      "------------------------------------------------------------------------------------------------------------------\n",
      "The sparrow is moving!\n",
      "The sparrow is flying!\n",
      "The sparrow is chirping!\n",
      "The sparrow is eating!\n"
     ]
    }
   ],
   "source": [
    "class Animal():\n",
    "    def __init__(self,species):\n",
    "        self.species=species\n",
    "    def move(self):\n",
    "        print(f\"The {self.species} is moving!\")\n",
    "        \n",
    "    def eat(self):\n",
    "        print(f\"The {self.species} is eating!\")\n",
    "        \n",
    "class Bird(Animal):\n",
    "    def fly(self):\n",
    "        print(f\"The {self.species} is flying!\")\n",
    "    def chirp(self):\n",
    "        print(f\"The {self.species} is chirping!\")\n",
    "        \n",
    "        \n",
    "parrot=Bird(\"parrot\")\n",
    "sparrow=Bird(\"sparrow\")\n",
    "\n",
    "\n",
    "parrot.move()\n",
    "parrot.fly()\n",
    "parrot.chirp()\n",
    "parrot.eat()\n",
    "print('------------------------------------------------------------------------------------------------------------------')\n",
    "sparrow.move()\n",
    "sparrow.fly()\n",
    "sparrow.chirp()\n",
    "sparrow.eat()"
   ]
  },
  {
   "cell_type": "code",
   "execution_count": 15,
   "id": "b47b3448",
   "metadata": {},
   "outputs": [
    {
     "name": "stdout",
     "output_type": "stream",
     "text": [
      "Name: John, Department: John, Post: Manager\n",
      "Name: Alice, Department: Alice, Post: Clerk\n"
     ]
    }
   ],
   "source": [
    "class Department:\n",
    "    def __init__(self, name):\n",
    "        self.name = name\n",
    "\n",
    "    def get_department_info(self):\n",
    "        return f\"Department: {self.name}\"\n",
    "\n",
    "\n",
    "class Post:\n",
    "    def __init__(self, title):\n",
    "        self.title = title\n",
    "\n",
    "    def get_post_info(self):\n",
    "        return f\"Post: {self.title}\"\n",
    "\n",
    "\n",
    "class Employee(Department, Post):\n",
    "    def __init__(self, name, department, title):\n",
    "        Department.__init__(self, department)\n",
    "        Post.__init__(self, title)\n",
    "        self.name = name\n",
    "\n",
    "    def get_employee_info(self):\n",
    "        return f\"Name: {self.name}, {self.get_department_info()}, {self.get_post_info()}\"\n",
    "\n",
    "\n",
    "employee1 = Employee(\"John\", \"Sales\", \"Manager\")\n",
    "employee2 = Employee(\"Alice\", \"HR\", \"Clerk\")\n",
    "\n",
    "print(employee1.get_employee_info())\n",
    "print(employee2.get_employee_info())\n"
   ]
  },
  {
   "cell_type": "code",
   "execution_count": null,
   "id": "3fa9feac",
   "metadata": {},
   "outputs": [],
   "source": []
  }
 ],
 "metadata": {
  "kernelspec": {
   "display_name": "Python 3 (ipykernel)",
   "language": "python",
   "name": "python3"
  },
  "language_info": {
   "codemirror_mode": {
    "name": "ipython",
    "version": 3
   },
   "file_extension": ".py",
   "mimetype": "text/x-python",
   "name": "python",
   "nbconvert_exporter": "python",
   "pygments_lexer": "ipython3",
   "version": "3.11.4"
  }
 },
 "nbformat": 4,
 "nbformat_minor": 5
}
