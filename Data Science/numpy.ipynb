{
 "cells": [
  {
   "cell_type": "code",
   "execution_count": 1,
   "id": "1aaa0ed1",
   "metadata": {},
   "outputs": [
    {
     "name": "stdout",
     "output_type": "stream",
     "text": [
      "Requirement already satisfied: numpy in c:\\users\\yerra\\anaconda3\\lib\\site-packages (1.24.3)\n"
     ]
    }
   ],
   "source": [
    "#numpy\n",
    "!pip install numpy"
   ]
  },
  {
   "cell_type": "code",
   "execution_count": 2,
   "id": "d93d54f7",
   "metadata": {},
   "outputs": [],
   "source": [
    "import numpy as np"
   ]
  },
  {
   "cell_type": "code",
   "execution_count": 8,
   "id": "a92b7cdf",
   "metadata": {},
   "outputs": [
    {
     "data": {
      "text/plain": [
       "9"
      ]
     },
     "execution_count": 8,
     "metadata": {},
     "output_type": "execute_result"
    }
   ],
   "source": [
    "x=np.random.randint(1,10)\n",
    "x"
   ]
  },
  {
   "cell_type": "code",
   "execution_count": 9,
   "id": "1dfec54a",
   "metadata": {},
   "outputs": [
    {
     "data": {
      "text/plain": [
       "array([6, 1, 1, 2])"
      ]
     },
     "execution_count": 9,
     "metadata": {},
     "output_type": "execute_result"
    }
   ],
   "source": [
    "x1=np.random.randint(1,10,size=4)#1D\n",
    "x1"
   ]
  },
  {
   "cell_type": "code",
   "execution_count": 10,
   "id": "e9dcf626",
   "metadata": {},
   "outputs": [
    {
     "data": {
      "text/plain": [
       "array([[9, 5],\n",
       "       [7, 1],\n",
       "       [7, 5],\n",
       "       [1, 5]])"
      ]
     },
     "execution_count": 10,
     "metadata": {},
     "output_type": "execute_result"
    }
   ],
   "source": [
    "x2=np.random.randint(1,10,size=(4,2))#2D\n",
    "x2"
   ]
  },
  {
   "cell_type": "code",
   "execution_count": 11,
   "id": "fe9096b6",
   "metadata": {},
   "outputs": [
    {
     "data": {
      "text/plain": [
       "array([[[9],\n",
       "        [4]],\n",
       "\n",
       "       [[6],\n",
       "        [6]],\n",
       "\n",
       "       [[2],\n",
       "        [9]],\n",
       "\n",
       "       [[4],\n",
       "        [9]]])"
      ]
     },
     "execution_count": 11,
     "metadata": {},
     "output_type": "execute_result"
    }
   ],
   "source": [
    "x3=np.random.randint(1,10,size=(4,2,1))#3D\n",
    "x3"
   ]
  },
  {
   "cell_type": "code",
   "execution_count": 23,
   "id": "1ec8f606",
   "metadata": {},
   "outputs": [
    {
     "data": {
      "text/plain": [
       "array([[9, 5],\n",
       "       [7, 1],\n",
       "       [7, 5],\n",
       "       [1, 5]])"
      ]
     },
     "execution_count": 23,
     "metadata": {},
     "output_type": "execute_result"
    }
   ],
   "source": [
    "x2"
   ]
  },
  {
   "cell_type": "code",
   "execution_count": 33,
   "id": "22e02e7c",
   "metadata": {},
   "outputs": [
    {
     "data": {
      "text/plain": [
       "array([[9, 5]])"
      ]
     },
     "execution_count": 33,
     "metadata": {},
     "output_type": "execute_result"
    }
   ],
   "source": [
    "x2[:1,:3]"
   ]
  },
  {
   "cell_type": "code",
   "execution_count": 34,
   "id": "0a0a229d",
   "metadata": {},
   "outputs": [
    {
     "data": {
      "text/plain": [
       "array([[9, 5],\n",
       "       [7, 1]])"
      ]
     },
     "execution_count": 34,
     "metadata": {},
     "output_type": "execute_result"
    }
   ],
   "source": [
    "x2[:2,:3]"
   ]
  },
  {
   "cell_type": "code",
   "execution_count": 56,
   "id": "dccc6fee",
   "metadata": {},
   "outputs": [
    {
     "data": {
      "text/plain": [
       "array([[5, 1],\n",
       "       [5, 7],\n",
       "       [1, 7],\n",
       "       [5, 9]])"
      ]
     },
     "execution_count": 56,
     "metadata": {},
     "output_type": "execute_result"
    }
   ],
   "source": [
    "x2[::-1,::-1]"
   ]
  },
  {
   "cell_type": "code",
   "execution_count": 36,
   "id": "4dbcbdfd",
   "metadata": {},
   "outputs": [
    {
     "data": {
      "text/plain": [
       "array([[5],\n",
       "       [5],\n",
       "       [1],\n",
       "       [5]])"
      ]
     },
     "execution_count": 36,
     "metadata": {},
     "output_type": "execute_result"
    }
   ],
   "source": [
    "x2[::-1,::-2]"
   ]
  },
  {
   "cell_type": "code",
   "execution_count": 39,
   "id": "0809083b",
   "metadata": {},
   "outputs": [
    {
     "data": {
      "text/plain": [
       "array([[5],\n",
       "       [1]])"
      ]
     },
     "execution_count": 39,
     "metadata": {},
     "output_type": "execute_result"
    }
   ],
   "source": [
    "x2[::-2,::-2]"
   ]
  },
  {
   "cell_type": "code",
   "execution_count": 41,
   "id": "1c564935",
   "metadata": {},
   "outputs": [
    {
     "name": "stdout",
     "output_type": "stream",
     "text": [
      "[1, 2, 3, 5, 1, 3, 5, 9]\n"
     ]
    }
   ],
   "source": [
    "original_array=[1,2,3,5,1,3,5,9]\n",
    "copied_array=original_array.copy()\n",
    "print(copied_array)"
   ]
  },
  {
   "cell_type": "code",
   "execution_count": 43,
   "id": "58141e25",
   "metadata": {},
   "outputs": [
    {
     "name": "stdout",
     "output_type": "stream",
     "text": [
      "[[1 2 3]\n",
      " [4 5 6]]\n"
     ]
    }
   ],
   "source": [
    "original_array=np.array([[1,2,3],[4,5,6]])\n",
    "copied_array=original_array.copy()\n",
    "print(copied_array)"
   ]
  },
  {
   "cell_type": "code",
   "execution_count": 53,
   "id": "b6f47be7",
   "metadata": {},
   "outputs": [
    {
     "name": "stdout",
     "output_type": "stream",
     "text": [
      "modified_array is: [[1 2 8]\n",
      " [4 5 6]]\n"
     ]
    }
   ],
   "source": [
    "original_array=np.array([[1,2,3],[4,5,6]])\n",
    "copied_array=original_array.copy()\n",
    "copied_array[0,2]=8\n",
    "print(\"modified_array is:\",copied_array)"
   ]
  },
  {
   "cell_type": "code",
   "execution_count": 59,
   "id": "52c13683",
   "metadata": {},
   "outputs": [
    {
     "data": {
      "text/plain": [
       "array([[1, 2],\n",
       "       [3, 4],\n",
       "       [5, 6]])"
      ]
     },
     "execution_count": 59,
     "metadata": {},
     "output_type": "execute_result"
    }
   ],
   "source": [
    "y=np.array([[1,2],[3,4],[5,6]])\n",
    "y"
   ]
  },
  {
   "cell_type": "code",
   "execution_count": 62,
   "id": "1a48660f",
   "metadata": {},
   "outputs": [
    {
     "data": {
      "text/plain": [
       "6"
      ]
     },
     "execution_count": 62,
     "metadata": {},
     "output_type": "execute_result"
    }
   ],
   "source": [
    "y[2,1]"
   ]
  },
  {
   "cell_type": "code",
   "execution_count": 67,
   "id": "db50c037",
   "metadata": {},
   "outputs": [
    {
     "data": {
      "text/plain": [
       "array([[3, 4],\n",
       "       [5, 6]])"
      ]
     },
     "execution_count": 67,
     "metadata": {},
     "output_type": "execute_result"
    }
   ],
   "source": [
    "y[1:3]"
   ]
  },
  {
   "cell_type": "code",
   "execution_count": 68,
   "id": "e8176e04",
   "metadata": {},
   "outputs": [
    {
     "data": {
      "text/plain": [
       "array([1, 3])"
      ]
     },
     "execution_count": 68,
     "metadata": {},
     "output_type": "execute_result"
    }
   ],
   "source": [
    "y[0:2,0]"
   ]
  },
  {
   "cell_type": "code",
   "execution_count": 70,
   "id": "00328b1c",
   "metadata": {},
   "outputs": [
    {
     "data": {
      "text/plain": [
       "(3, 2)"
      ]
     },
     "execution_count": 70,
     "metadata": {},
     "output_type": "execute_result"
    }
   ],
   "source": [
    "y.shape"
   ]
  },
  {
   "cell_type": "code",
   "execution_count": 72,
   "id": "e12f50d9",
   "metadata": {},
   "outputs": [
    {
     "data": {
      "text/plain": [
       "array([[1, 2, 3],\n",
       "       [4, 5, 6]])"
      ]
     },
     "execution_count": 72,
     "metadata": {},
     "output_type": "execute_result"
    }
   ],
   "source": [
    "y.reshape(2,3)"
   ]
  },
  {
   "cell_type": "code",
   "execution_count": 77,
   "id": "ad6f586b",
   "metadata": {},
   "outputs": [
    {
     "data": {
      "text/plain": [
       "array([[0, 1, 2],\n",
       "       [3, 4, 5],\n",
       "       [6, 7, 8]])"
      ]
     },
     "execution_count": 77,
     "metadata": {},
     "output_type": "execute_result"
    }
   ],
   "source": [
    "arr1=np.arange(9).reshape((3,3))\n",
    "arr1"
   ]
  },
  {
   "cell_type": "code",
   "execution_count": 78,
   "id": "27b6c823",
   "metadata": {},
   "outputs": [
    {
     "data": {
      "text/plain": [
       "array([[0, 3, 6],\n",
       "       [1, 4, 7],\n",
       "       [2, 5, 8]])"
      ]
     },
     "execution_count": 78,
     "metadata": {},
     "output_type": "execute_result"
    }
   ],
   "source": [
    "#transpose\n",
    "arr1=np.arange(9).reshape((3,3))\n",
    "transposed_arr1=arr1.transpose()\n",
    "transposed_arr1\n",
    "\n"
   ]
  },
  {
   "cell_type": "code",
   "execution_count": 87,
   "id": "b7f6d1f1",
   "metadata": {},
   "outputs": [
    {
     "data": {
      "text/plain": [
       "array([[ 1, 23, 33,  1],\n",
       "       [ 1, 23, 44,  3]])"
      ]
     },
     "execution_count": 87,
     "metadata": {},
     "output_type": "execute_result"
    }
   ],
   "source": [
    "data1=np.array([[1,23,33,1],[1,23,44,3]])\n",
    "data1\n"
   ]
  },
  {
   "cell_type": "code",
   "execution_count": 85,
   "id": "f9432f77",
   "metadata": {},
   "outputs": [
    {
     "data": {
      "text/plain": [
       "array([[ 2, 32, 22,  1],\n",
       "       [ 7, 22, 22,  2]])"
      ]
     },
     "execution_count": 85,
     "metadata": {},
     "output_type": "execute_result"
    }
   ],
   "source": [
    "data2=np.array([[2,32,22,1],[7,22,22,2]])\n",
    "data2"
   ]
  },
  {
   "cell_type": "code",
   "execution_count": 88,
   "id": "359f08b9",
   "metadata": {},
   "outputs": [
    {
     "data": {
      "text/plain": [
       "array([[ 1, 23, 33,  1],\n",
       "       [ 1, 23, 44,  3],\n",
       "       [ 2, 32, 22,  1],\n",
       "       [ 7, 22, 22,  2]])"
      ]
     },
     "execution_count": 88,
     "metadata": {},
     "output_type": "execute_result"
    }
   ],
   "source": [
    "#concatenate\n",
    "data1=np.array([[1,23,33,1],[1,23,44,3]])\n",
    "data2=np.array([[2,32,22,1],[7,22,22,2]])\n",
    "np.concatenate([data1,data2])\n"
   ]
  },
  {
   "cell_type": "code",
   "execution_count": 89,
   "id": "17407801",
   "metadata": {},
   "outputs": [
    {
     "data": {
      "text/plain": [
       "array([[ 9,  8,  7, 99],\n",
       "       [ 6,  5,  4, 99]])"
      ]
     },
     "execution_count": 89,
     "metadata": {},
     "output_type": "execute_result"
    }
   ],
   "source": [
    "#hstack\n",
    "stack1 = np.array([[99],[99]])\n",
    "stack2 = np.array([[9,8,7],[6,5,4]])\n",
    "np.hstack([stack2,stack1])"
   ]
  },
  {
   "cell_type": "code",
   "execution_count": 92,
   "id": "fd8f70df",
   "metadata": {},
   "outputs": [
    {
     "data": {
      "text/plain": [
       "array([[ 9,  8,  7],\n",
       "       [ 6,  5,  4],\n",
       "       [99,  2,  3],\n",
       "       [ 9,  3,  9],\n",
       "       [ 1,  9,  9]])"
      ]
     },
     "execution_count": 92,
     "metadata": {},
     "output_type": "execute_result"
    }
   ],
   "source": [
    "#vstack\n",
    "stack1 = np.array([[99,2,3],[9,3,9],[1,9,9]])\n",
    "stack2 = np.array([[9,8,7],[6,5,4]])\n",
    "np.vstack([stack2,stack1])\n",
    "\n"
   ]
  },
  {
   "cell_type": "code",
   "execution_count": 99,
   "id": "5d9ff662",
   "metadata": {},
   "outputs": [
    {
     "data": {
      "text/plain": [
       "array([[9, 2],\n",
       "       [8, 9],\n",
       "       [6, 7]])"
      ]
     },
     "execution_count": 99,
     "metadata": {},
     "output_type": "execute_result"
    }
   ],
   "source": [
    "#reverse\n",
    "data = np.array([[2,9],[9,8],[7,6]])\n",
    "reverse = np.flip(data,axis=1)\n",
    "reverse"
   ]
  },
  {
   "cell_type": "code",
   "execution_count": 104,
   "id": "7ce0d3cd",
   "metadata": {},
   "outputs": [
    {
     "data": {
      "text/plain": [
       "2"
      ]
     },
     "execution_count": 104,
     "metadata": {},
     "output_type": "execute_result"
    }
   ],
   "source": [
    "#max min and sum\n",
    "data = np.array([[2,92],[19,8],[227,6]])\n",
    "data.sum()\n",
    "data.max()\n",
    "data.min()"
   ]
  },
  {
   "cell_type": "code",
   "execution_count": 105,
   "id": "c416ebfe",
   "metadata": {},
   "outputs": [
    {
     "data": {
      "text/plain": [
       "array([1, 0])"
      ]
     },
     "execution_count": 105,
     "metadata": {},
     "output_type": "execute_result"
    }
   ],
   "source": [
    "#doubt!\n",
    "data = np.array([[2,0],[3,8],[1,6]])\n",
    "data.min(axis=0)"
   ]
  },
  {
   "cell_type": "code",
   "execution_count": 117,
   "id": "cfd07a37",
   "metadata": {},
   "outputs": [
    {
     "data": {
      "text/plain": [
       "[array([1, 2, 3, 4]), array([5, 6, 7, 8])]"
      ]
     },
     "execution_count": 117,
     "metadata": {},
     "output_type": "execute_result"
    }
   ],
   "source": [
    "#even_elements_splitting\n",
    "arr = np.array([1, 2, 3, 4, 5, 6, 7, 8])\n",
    "sub_arrays = np.split(arr, 2)\n",
    "sub_arrays\n"
   ]
  },
  {
   "cell_type": "code",
   "execution_count": 119,
   "id": "6e03a3f7",
   "metadata": {},
   "outputs": [
    {
     "data": {
      "text/plain": [
       "[array([1, 2, 3]), array([4, 5]), array([6, 7]), array([8, 9])]"
      ]
     },
     "execution_count": 119,
     "metadata": {},
     "output_type": "execute_result"
    }
   ],
   "source": [
    "#uneven_elements_splitting\n",
    "arr = np.array([1, 2, 3, 4, 5, 6, 7, 8,9])\n",
    "sub_arrays = np.array_split(arr, 4)\n",
    "sub_arrays\n"
   ]
  },
  {
   "cell_type": "code",
   "execution_count": 130,
   "id": "d441f420",
   "metadata": {},
   "outputs": [
    {
     "data": {
      "text/plain": [
       "[array([1, 2]), array([ 3, 99]), array([99,  3,  2,  1])]"
      ]
     },
     "execution_count": 130,
     "metadata": {},
     "output_type": "execute_result"
    }
   ],
   "source": [
    "#hsplit and vsplit\n",
    "x = [1,2,3,99,99,3,2,1]\n",
    "yy=np.split(x,[2,4])\n",
    "yy\n"
   ]
  },
  {
   "cell_type": "code",
   "execution_count": null,
   "id": "4d9c62f3",
   "metadata": {},
   "outputs": [],
   "source": []
  }
 ],
 "metadata": {
  "kernelspec": {
   "display_name": "Python 3 (ipykernel)",
   "language": "python",
   "name": "python3"
  },
  "language_info": {
   "codemirror_mode": {
    "name": "ipython",
    "version": 3
   },
   "file_extension": ".py",
   "mimetype": "text/x-python",
   "name": "python",
   "nbconvert_exporter": "python",
   "pygments_lexer": "ipython3",
   "version": "3.11.4"
  }
 },
 "nbformat": 4,
 "nbformat_minor": 5
}
