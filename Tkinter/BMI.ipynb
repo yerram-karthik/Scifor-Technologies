{
 "cells": [
  {
   "cell_type": "code",
   "execution_count": 1,
   "id": "fd432a3c",
   "metadata": {},
   "outputs": [],
   "source": [
    "#BMI\n",
    "import tkinter as tk\n",
    "from tkinter import messagebox\n",
    "from datetime import datetime\n",
    "\n",
    "# Function to calculate BMI\n",
    "def calculate_bmi():\n",
    "    height = height_scale.get() / 100  # Convert height to meters\n",
    "    weight = weight_scale.get()\n",
    "    bmi = weight / (height ** 2)\n",
    "    bmi_scale.set(bmi)\n",
    "\n",
    "    if bmi < 18.5:\n",
    "        result_label.config(text=\"Underweight\", fg=\"red\")\n",
    "    elif 18.5 <= bmi < 24.9:\n",
    "        result_label.config(text=\"Normal\", fg=\"green\")\n",
    "    else:\n",
    "        result_label.config(text=\"Overweight\", fg=\"red\")\n",
    "\n",
    "   \n",
    "    save_data(height, weight, bmi)\n",
    "\n",
    "def save_data(height, weight, bmi):\n",
    "    with open(\"bmi_data.txt\", \"a\") as file:\n",
    "        file.write(f\"Date: {datetime.now().strftime('%Y-%m-%d %H:%M:%S')}\\n\")\n",
    "        file.write(f\"Height: {height} cm\\n\")\n",
    "        file.write(f\"Weight: {weight} kg\\n\")\n",
    "        file.write(f\"BMI: {bmi}\\n\")\n",
    "        file.write(\"-\" * 20 + \"\\n\")\n",
    "\n",
    "root = tk.Tk()\n",
    "root.title(\"BMI Calculator\")\n",
    "\n",
    "height_label = tk.Label(root, text=\"Height\")\n",
    "height_label.grid(row=0, column=0, padx=10, pady=5)\n",
    "height_scale = tk.Scale(root, from_=100, to=250, orient=tk.HORIZONTAL, length=200)\n",
    "height_scale.grid(row=0, column=1, padx=10, pady=5)\n",
    "\n",
    "weight_label = tk.Label(root, text=\"Weight\")\n",
    "weight_label.grid(row=1, column=0, padx=10, pady=5)\n",
    "weight_scale = tk.Scale(root, from_=30, to=200, orient=tk.HORIZONTAL, length=200)\n",
    "weight_scale.grid(row=1, column=1, padx=10, pady=5)\n",
    "\n",
    "bmi_label = tk.Label(root, text=\"BMI\")\n",
    "bmi_label.grid(row=2, column=0, padx=10, pady=5)\n",
    "bmi_scale = tk.Scale(root, from_=0, to=50, orient=tk.HORIZONTAL, length=200)\n",
    "bmi_scale.grid(row=2, column=1, padx=10, pady=5)\n",
    "\n",
    "calculate_button = tk.Button(root, text=\"Calculate BMI\", command=calculate_bmi)\n",
    "calculate_button.grid(row=3, column=0, columnspan=2, pady=10)\n",
    "\n",
    "result_label = tk.Label(root, text=\"\", font=(\"Arial\", 12, \"bold\"))\n",
    "result_label.grid(row=4, column=0, columnspan=2)\n",
    "\n",
    "root.mainloop()\n"
   ]
  },
  {
   "cell_type": "code",
   "execution_count": null,
   "id": "556777fb",
   "metadata": {},
   "outputs": [],
   "source": []
  }
 ],
 "metadata": {
  "kernelspec": {
   "display_name": "Python 3 (ipykernel)",
   "language": "python",
   "name": "python3"
  },
  "language_info": {
   "codemirror_mode": {
    "name": "ipython",
    "version": 3
   },
   "file_extension": ".py",
   "mimetype": "text/x-python",
   "name": "python",
   "nbconvert_exporter": "python",
   "pygments_lexer": "ipython3",
   "version": "3.11.4"
  }
 },
 "nbformat": 4,
 "nbformat_minor": 5
}
