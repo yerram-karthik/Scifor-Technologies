import tkinter as tk
from PIL import Image, ImageTk

# Define the paths to the image files
image_paths = {
    "tiger": "C:/Users/yerra/OneDrive/Desktop/SCIFOR TRAINING/Tkinter/tiger.jpg",
    "lion": "C:/Users/yerra/OneDrive/Desktop/SCIFOR TRAINING/Tkinter/lion.jpg",
    "blackbuck": "C:/Users/yerra/OneDrive/Desktop/SCIFOR TRAINING/Tkinter/blackbuck.jpg",
    "leopard": "C:/Users/yerra/OneDrive/Desktop/SCIFOR TRAINING/Tkinter/leopard.jpg"
}

# Define the descriptions of endangered animals
descriptions = {
    "tiger": "The Bengal Tiger is the national animal of both India and Bangladesh. The tiger’s coat is yellow to light orange, with stripes ranging from dark brown to black. The number of tigers has reduced dramatically in the past few years, due to poaching and human-tiger conflict.",
    "lion": "Asiatic Lion aka the Indian Lion or Persian Lion is a lion subspecies that is endangered. It differs from the African lion by less inflated auditory bullae, a larger tail tuft and a less developed mane.",
    "blackbuck": "The Blackbuck is an ungulate species of antelope and it is near threatened. The main threat to this species is poaching, predation, habitat destruction, overgrazing, inbreeding and sanctuary visitors.",
    "leopard": "The snow leopard is a large cat native to the mountain ranges in Central and South Asia. Snow leopards have long, thick fur."
}

# Create the main application window
root = tk.Tk()
root.title("Endangered Animals")

# Create frames for each animal description
frame_tiger = tk.Frame(root, bd=2, relief=tk.GROOVE)
frame_lion = tk.Frame(root, bd=2, relief=tk.GROOVE)
frame_blackbuck = tk.Frame(root, bd=2, relief=tk.GROOVE)
frame_leopard = tk.Frame(root, bd=2, relief=tk.GROOVE)

# Place frames in the window
frame_tiger.grid(row=0, column=0, padx=10, pady=10, sticky="nsew")
frame_lion.grid(row=0, column=1, padx=10, pady=10, sticky="nsew")
frame_blackbuck.grid(row=1, column=0, padx=10, pady=10, sticky="nsew")
frame_leopard.grid(row=1, column=1, padx=10, pady=10, sticky="nsew")

# Add labels with descriptions and images to each frame
for animal, frame in zip(image_paths.keys(), [frame_tiger, frame_lion, frame_blackbuck, frame_leopard]):
    # Load and resize the image
    image = Image.open(image_paths[animal])
    image = image.resize((150, 150), Image.ANTIALIAS)
    photo = ImageTk.PhotoImage(image)

    # Create a label for the image
    image_label = tk.Label(frame, image=photo)
    image_label.image = photo  # Keep a reference to the image
    image_label.pack(padx=10, pady=10)

    # Create a label for the description
    description_label = tk.Label(frame, text=descriptions[animal], wraplength=300, justify="left")
    description_label.pack(padx=10, pady=10)

# Configure grid layout
for i in range(2):
    root.grid_rowconfigure(i, weight=1)
    root.grid_columnconfigure(i, weight=1)

# Execute the Tkinter event loop
root.mainloop()
