{
 "cells": [
  {
   "cell_type": "code",
   "execution_count": 1,
   "id": "ee5955f8",
   "metadata": {},
   "outputs": [],
   "source": [
    "#notepad\n",
    "import tkinter as tk\n",
    "from tkinter import filedialog, messagebox, Menu, Scrollbar, Text, END\n",
    "\n",
    "class NotepadApp:\n",
    "    def __init__(self, master):\n",
    "        self.master = master\n",
    "        self.master.title(\"Notepad\")\n",
    "        self.text_area = Text(self.master, wrap=\"word\", undo=True)\n",
    "        self.text_area.pack(expand=True, fill=\"both\")\n",
    "\n",
    "        self.scrollbar = Scrollbar(self.text_area)\n",
    "        self.scrollbar.pack(side=\"right\", fill=\"y\")\n",
    "        self.scrollbar.config(command=self.text_area.yview)\n",
    "        self.text_area.config(yscrollcommand=self.scrollbar.set)\n",
    "\n",
    "        self.menu_bar = Menu(self.master)\n",
    "        self.master.config(menu=self.menu_bar)\n",
    "\n",
    "        self.file_menu = Menu(self.menu_bar, tearoff=False)\n",
    "        self.menu_bar.add_cascade(label=\"File\", menu=self.file_menu)\n",
    "        self.file_menu.add_command(label=\"New\", command=self.new_file)\n",
    "        self.file_menu.add_command(label=\"Open\", command=self.open_file)\n",
    "        self.file_menu.add_command(label=\"Save\", command=self.save_file)\n",
    "        self.file_menu.add_separator()\n",
    "        self.file_menu.add_command(label=\"Exit\", command=self.master.quit)\n",
    "\n",
    "        self.edit_menu = Menu(self.menu_bar, tearoff=False)\n",
    "        self.menu_bar.add_cascade(label=\"Edit\", menu=self.edit_menu)\n",
    "        self.edit_menu.add_command(label=\"Undo\", command=self.text_area.edit_undo)\n",
    "        self.edit_menu.add_command(label=\"Redo\", command=self.text_area.edit_redo)\n",
    "\n",
    "    def new_file(self):\n",
    "        self.text_area.delete(1.0, END)\n",
    "\n",
    "    def open_file(self):\n",
    "        file_path = filedialog.askopenfilename()\n",
    "        if file_path:\n",
    "            with open(file_path, \"r\") as file:\n",
    "                content = file.read()\n",
    "                self.text_area.delete(1.0, END)\n",
    "                self.text_area.insert(1.0, content)\n",
    "\n",
    "    def save_file(self):\n",
    "        content = self.text_area.get(1.0, END)\n",
    "        file_path = filedialog.asksaveasfilename(defaultextension=\".txt\", filetypes=[(\"Text Files\", \"*.txt\")])\n",
    "        if file_path:\n",
    "            with open(file_path, \"w\") as file:\n",
    "                file.write(content)\n",
    "            messagebox.showinfo(\"Information\", \"File saved successfully.\")\n",
    "\n",
    "if __name__ == \"__main__\":\n",
    "    root = tk.Tk()\n",
    "    app = NotepadApp(root)\n",
    "    root.mainloop()\n"
   ]
  },
  {
   "cell_type": "code",
   "execution_count": null,
   "id": "dc969a22",
   "metadata": {},
   "outputs": [],
   "source": []
  }
 ],
 "metadata": {
  "kernelspec": {
   "display_name": "Python 3 (ipykernel)",
   "language": "python",
   "name": "python3"
  },
  "language_info": {
   "codemirror_mode": {
    "name": "ipython",
    "version": 3
   },
   "file_extension": ".py",
   "mimetype": "text/x-python",
   "name": "python",
   "nbconvert_exporter": "python",
   "pygments_lexer": "ipython3",
   "version": "3.11.4"
  }
 },
 "nbformat": 4,
 "nbformat_minor": 5
}
