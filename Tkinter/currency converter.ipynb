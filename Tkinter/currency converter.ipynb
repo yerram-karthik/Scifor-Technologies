{
 "cells": [
  {
   "cell_type": "code",
   "execution_count": 2,
   "id": "e27b4cec",
   "metadata": {},
   "outputs": [
    {
     "name": "stdout",
     "output_type": "stream",
     "text": [
      "Collecting forex_python\n",
      "  Downloading forex_python-1.8-py3-none-any.whl (8.2 kB)\n",
      "Requirement already satisfied: requests in c:\\users\\yerra\\anaconda3\\lib\\site-packages (from forex_python) (2.31.0)\n",
      "Collecting simplejson (from forex_python)\n",
      "  Obtaining dependency information for simplejson from https://files.pythonhosted.org/packages/b6/8e/3e12d122dfdf549a8d12eaf39954ee39f2027060aa38b63430f8ab3244e7/simplejson-3.19.2-cp311-cp311-win_amd64.whl.metadata\n",
      "  Downloading simplejson-3.19.2-cp311-cp311-win_amd64.whl.metadata (3.2 kB)\n",
      "Requirement already satisfied: charset-normalizer<4,>=2 in c:\\users\\yerra\\anaconda3\\lib\\site-packages (from requests->forex_python) (2.0.4)\n",
      "Requirement already satisfied: idna<4,>=2.5 in c:\\users\\yerra\\anaconda3\\lib\\site-packages (from requests->forex_python) (3.4)\n",
      "Requirement already satisfied: urllib3<3,>=1.21.1 in c:\\users\\yerra\\anaconda3\\lib\\site-packages (from requests->forex_python) (1.26.16)\n",
      "Requirement already satisfied: certifi>=2017.4.17 in c:\\users\\yerra\\anaconda3\\lib\\site-packages (from requests->forex_python) (2023.7.22)\n",
      "Downloading simplejson-3.19.2-cp311-cp311-win_amd64.whl (75 kB)\n",
      "   ---------------------------------------- 0.0/75.3 kB ? eta -:--:--\n",
      "   ---------------- ----------------------- 30.7/75.3 kB 1.4 MB/s eta 0:00:01\n",
      "   ---------------------------------------- 75.3/75.3 kB 1.1 MB/s eta 0:00:00\n",
      "Installing collected packages: simplejson, forex_python\n",
      "Successfully installed forex_python-1.8 simplejson-3.19.2\n"
     ]
    }
   ],
   "source": [
    "!pip install forex_python"
   ]
  },
  {
   "cell_type": "code",
   "execution_count": 32,
   "id": "8d87e93f",
   "metadata": {},
   "outputs": [],
   "source": [
    "import tkinter as tk\n",
    "from forex_python.converter import CurrencyRates\n",
    "\n",
    "class CurrencyConverterApp:\n",
    "    def __init__(self, root):\n",
    "        self.root = root\n",
    "        self.root.title(\"Currency Converter\")\n",
    "\n",
    "        # options of the available currencies\n",
    "        self.currencies = ('ALL', 'AFN', 'ARS', 'AWG', 'AUD', 'AZN', 'BSD', 'BBD', 'BYN', 'BZD', 'BMD', 'BOB', 'BAM', 'BWP', 'BGN', 'BND', 'KHR', 'CAD', 'KYD', 'CLP', 'CNY', 'COP', 'CRC', 'HRK', 'CUP', 'CZK', 'DKK', 'DOP', 'XCD', 'EGP', 'SVC', 'EUR', 'FKP', 'FJD', 'GHS', 'GIP', 'GTQ', 'GGP', 'GYD', 'HNL', 'HKD', 'HUF', 'ISK', 'INR')\n",
    "\n",
    "        # From dropdown\n",
    "        self.from_currency_label = tk.Label(self.root, text=\"From Currency:\")\n",
    "        self.from_currency_label.grid(row=0, column=0, padx=10, pady=10, sticky='w')\n",
    "        self.from_currency_var = tk.StringVar(self.root)\n",
    "        self.from_currency_dropdown = tk.OptionMenu(self.root, self.from_currency_var, *self.currencies)\n",
    "        self.from_currency_dropdown.grid(row=0, column=1, padx=10, pady=10)\n",
    "\n",
    "        # To dropdown\n",
    "        self.to_currency_label = tk.Label(self.root, text=\"To Currency:\")\n",
    "        self.to_currency_label.grid(row=1, column=0, padx=10, pady=10, sticky='w')\n",
    "        self.to_currency_var = tk.StringVar(self.root)\n",
    "        self.to_currency_dropdown = tk.OptionMenu(self.root, self.to_currency_var, *self.currencies)\n",
    "        self.to_currency_dropdown.grid(row=1, column=1, padx=10, pady=10)\n",
    "\n",
    "        # Amount\n",
    "        self.amount_label = tk.Label(self.root, text=\"Amount:\")\n",
    "        self.amount_label.grid(row=2, column=0, padx=10, pady=10, sticky='w')\n",
    "        self.amount_entry = tk.Entry(self.root)\n",
    "        self.amount_entry.grid(row=2, column=1, padx=10, pady=10)\n",
    "\n",
    "        # Convert\n",
    "        self.convert_button = tk.Button(self.root, text=\"Convert\", command=self.convert_currency)\n",
    "        self.convert_button.grid(row=3, column=0, columnspan=2, padx=10, pady=10)\n",
    "\n",
    "        # Result\n",
    "        self.result_label = tk.Label(self.root, text=\"\")\n",
    "        self.result_label.grid(row=4, column=0, columnspan=2, padx=10, pady=10)\n",
    "    \n",
    "    def convert_currency(self):\n",
    "        try:\n",
    "            amount = float(self.amount_entry.get())\n",
    "            from_currency = self.from_currency_var.get()\n",
    "            to_currency = self.to_currency_var.get()\n",
    "\n",
    "            c = CurrencyRates()\n",
    "            conversion_rate = c.get_rate(from_currency, to_currency)\n",
    "        \n",
    "            if conversion_rate is None:\n",
    "                raise ValueError(\"Conversion rate not available for the selected pair.\")\n",
    "        \n",
    "            converted_amount = amount * conversion_rate\n",
    "\n",
    "            result_text = f\"{amount} {from_currency} equals {converted_amount:.2f} {to_currency}\"\n",
    "            self.result_label.config(text=result_text)  # Updating result with conversion result\n",
    "        \n",
    "        except ValueError as e:\n",
    "            self.result_label.config(text=str(e))  # Displaying the error!\n",
    "\n",
    "\n",
    "\n",
    "\n",
    "if __name__ == \"__main__\":\n",
    "    root = tk.Tk()\n",
    "    root.geometry(\"600x400\")\n",
    "    app = CurrencyConverterApp(root)\n",
    "    root.mainloop()\n"
   ]
  },
  {
   "cell_type": "code",
   "execution_count": null,
   "id": "954c1951",
   "metadata": {},
   "outputs": [],
   "source": []
  }
 ],
 "metadata": {
  "kernelspec": {
   "display_name": "Python 3 (ipykernel)",
   "language": "python",
   "name": "python3"
  },
  "language_info": {
   "codemirror_mode": {
    "name": "ipython",
    "version": 3
   },
   "file_extension": ".py",
   "mimetype": "text/x-python",
   "name": "python",
   "nbconvert_exporter": "python",
   "pygments_lexer": "ipython3",
   "version": "3.11.4"
  }
 },
 "nbformat": 4,
 "nbformat_minor": 5
}
