{
 "cells": [
  {
   "cell_type": "code",
   "execution_count": null,
   "id": "6505bbc1",
   "metadata": {},
   "outputs": [],
   "source": [
    "import requests\n",
    "import tkinter as tk\n",
    "import json\n",
    "\n",
    "class QuoteApp:\n",
    "    def __init__(self, root):\n",
    "        self.root = root\n",
    "        self.root.title(\"Random Quote\")\n",
    "\n",
    "        self.label = tk.Label(root, text=\"Click the button to get a random quote!\", font=(\"Helvetica\", 14), bg=\"blue\", fg=\"white\")\n",
    "        self.label.pack(pady=10)\n",
    "\n",
    "        self.quote_text = tk.Text(root, height=5, width=50, wrap=tk.WORD, font=(\"Helvetica\", 12))\n",
    "        self.quote_text.pack(pady=10)\n",
    "\n",
    "        self.button = tk.Button(root, text=\"Get Quote\", command=self.get_quote, bg=\"white\", fg=\"blue\")\n",
    "        self.button.pack(pady=5)\n",
    "\n",
    "    def get_quote(self):\n",
    "        try:\n",
    "            response = requests.get(\"https://api.quotable.io/random\")\n",
    "            data = response.json()\n",
    "\n",
    "            if 'content' in data and 'author' in data:\n",
    "                content = data['content']\n",
    "                author = data['author']\n",
    "                self.display_quote(content, author)\n",
    "                self.save_quote(data)\n",
    "            else:\n",
    "                self.display_error(\"Failed to retrieve quote data\")\n",
    "        except Exception as e:\n",
    "            self.display_error(f\"An error occurred: {str(e)}\")\n",
    "\n",
    "    def display_quote(self, content, author):\n",
    "        self.quote_text.delete(1.0, tk.END)\n",
    "        self.quote_text.insert(tk.END, f\"\\\"{content}\\\" - {author}\")\n",
    "\n",
    "    def display_error(self, message):\n",
    "        self.quote_text.delete(1.0, tk.END)\n",
    "        self.quote_text.insert(tk.END, message)\n",
    "\n",
    "    def save_quote(self, quote_data):\n",
    "        with open('quotes.json', 'a') as f:\n",
    "            json.dump(quote_data, f)\n",
    "            f.write('\\n')\n",
    "\n",
    "if __name__ == \"__main__\":\n",
    "    root = tk.Tk()\n",
    "    app = QuoteApp(root)\n",
    "    root.mainloop()\n"
   ]
  },
  {
   "cell_type": "code",
   "execution_count": null,
   "id": "15818642",
   "metadata": {},
   "outputs": [],
   "source": []
  }
 ],
 "metadata": {
  "kernelspec": {
   "display_name": "Python 3 (ipykernel)",
   "language": "python",
   "name": "python3"
  },
  "language_info": {
   "codemirror_mode": {
    "name": "ipython",
    "version": 3
   },
   "file_extension": ".py",
   "mimetype": "text/x-python",
   "name": "python",
   "nbconvert_exporter": "python",
   "pygments_lexer": "ipython3",
   "version": "3.11.4"
  }
 },
 "nbformat": 4,
 "nbformat_minor": 5
}
